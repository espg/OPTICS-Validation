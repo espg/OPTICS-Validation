{
 "cells": [
  {
   "cell_type": "code",
   "execution_count": 1,
   "metadata": {},
   "outputs": [
    {
     "name": "stdout",
     "output_type": "stream",
     "text": [
      "[0, 1, 5, 6, 2, 7, 8, 3, 4, 9]\n"
     ]
    },
    {
     "data": {
      "image/png": "[encoded data removed]",
      "text/plain": [
       "<matplotlib.figure.Figure at 0x109315f98>"
      ]
     },
     "metadata": {},
     "output_type": "display_data"
    }
   ],
   "source": [
    "'''\n",
    " -------------------------------------------------------------------------\n",
    " Function:\n",
    " [RD,CD,order]=optics(x,k)\n",
    " -------------------------------------------------------------------------\n",
    " Aim:\n",
    " Ordering objects of a data set to obtain the clustering structure\n",
    " -------------------------------------------------------------------------\n",
    " Input:\n",
    " x - data set (m,n); m-objects, n-variables\n",
    " k - number of objects in a neighborhood of the selected object\n",
    " (minimal number of objects considered as a cluster)\n",
    " -------------------------------------------------------------------------\n",
    " Output:\n",
    " RD - vector with reachability distances (m,1)\n",
    " CD - vector with core distances (m,1)\n",
    " order - vector specifying the order of objects (1,m)\n",
    " -------------------------------------------------------------------------\n",
    " Example of use:\n",
    " x=[randn(30,2)*.4;randn(40,2)*.5+ones(40,1)*[4 4]];\n",
    " [RD,CD,order]=optics(x,4)\n",
    " -------------------------------------------------------------------------\n",
    " References:\n",
    " [1] M. Ankrest, M. Breunig, H. Kriegel, J. Sander,\n",
    " OPTICS: Ordering Points To Identify the Clustering Structure,\n",
    " available from www.dbs.informatik.uni-muenchen.de/cgi-bin/papers?query=--CO\n",
    " [2] M. Daszykowski, B. Walczak, D.L. Massart, Looking for natural\n",
    " patterns in analytical data. Part 2. Tracing local density\n",
    " with OPTICS, J. Chem. Inf. Comput. Sci. 42 (2002) 500-507\n",
    " -------------------------------------------------------------------------\n",
    " Written by Michal Daszykowski\n",
    " Department of Chemometrics, Institute of Chemistry,\n",
    " The University of Silesia\n",
    " December 2004\n",
    " http://www.chemometria.us.edu.pl\n",
    "\n",
    "\n",
    "ported to python Jan, 2009 by Brian H. Clowers, Pacific Northwest National Laboratory.\n",
    "Dependencies include scipy, numpy, and hcluster.\n",
    "bhclowers at gmail.com\n",
    "'''\n",
    "\n",
    "\n",
    "import numpy as N\n",
    "import pylab as P\n",
    "import hcluster as H\n",
    "\n",
    "\n",
    "def optics(x, k, distMethod = 'euclidean'):\n",
    "    if len(x.shape)>1:\n",
    "        m,n = x.shape\n",
    "    else:\n",
    "        m = x.shape[0]\n",
    "        n == 1\n",
    "\n",
    "    try:\n",
    "        D = H.squareform(H.pdist(x, distMethod))\n",
    "        distOK = True\n",
    "    except:\n",
    "        print(\"squareform or pdist error\")\n",
    "        distOK = False\n",
    "\n",
    "\n",
    "    CD = N.zeros(m)\n",
    "    RD = N.ones(m)*1E10\n",
    "\n",
    "    for i in range(m):\n",
    "        #again you can use the euclid function if you don't want hcluster\n",
    "#        d = euclid(x[i],x)\n",
    "#        d.sort()\n",
    "#        CD[i] = d[k]\n",
    "\n",
    "        tempInd = D[i].argsort()\n",
    "        tempD = D[i][tempInd]\n",
    "#        tempD.sort() #we don't use this function as it changes the reference\n",
    "        CD[i] = tempD[k]#**2\n",
    "\n",
    "\n",
    "    order = []\n",
    "    seeds = N.arange(m, dtype = N.int)\n",
    "\n",
    "    ind = 0\n",
    "    while len(seeds) != 1:\n",
    "#    for seed in seeds:\n",
    "        ob = seeds[ind]\n",
    "        seedInd = N.where(seeds != ob)\n",
    "        seeds = seeds[seedInd]\n",
    "\n",
    "        order.append(ob)\n",
    "        tempX = N.ones(len(seeds))*CD[ob]\n",
    "        tempD = D[ob][seeds]#[seeds]\n",
    "        #you can use this function if you don't want to use hcluster\n",
    "        #tempD = euclid(x[ob],x[seeds])\n",
    "\n",
    "        temp = N.column_stack((tempX, tempD))\n",
    "        mm = N.max(temp, axis = 1)\n",
    "        ii = N.where(RD[seeds]>mm)[0]\n",
    "        RD[seeds[ii]] = mm[ii]\n",
    "        ind = N.argmin(RD[seeds])\n",
    "\n",
    "\n",
    "    order.append(seeds[0])\n",
    "    RD[0] = 0 #we set this point to 0 as it does not get overwritten\n",
    "    return RD, CD, order\n",
    "\n",
    "def euclid(i, x):\n",
    "    \"\"\"euclidean(i, x) -> euclidean distance between x and y\"\"\"\n",
    "    y = N.zeros_like(x)\n",
    "    y += 1\n",
    "    y *= i\n",
    "#    if len(x) != len(y):\n",
    "#        raise ValueError, \"vectors must be same length\"\n",
    "\n",
    "    d = (x-y)**2\n",
    "    return N.sqrt(N.sum(d, axis = 1))\n",
    "\n",
    "\n",
    "\n",
    "if __name__ == \"__main__\":\n",
    "\n",
    "    testX = N.array([[ 15.,  70.],\n",
    "                    [ 31.,  87.],\n",
    "                    [ 45.,  32.],\n",
    "                    [  5.,   8.],\n",
    "                    [ 73.,   9.],\n",
    "                    [ 32.,  83.],\n",
    "                    [ 26.,  50.],\n",
    "                    [  7.,  31.],\n",
    "                    [ 43.,  97.],\n",
    "                    [ 97.,   9.]])\n",
    "\n",
    "#    mlabOrder = N.array(1,2,6,7,3,8,9,4,5,10) #the order returned by the original MATLAB code\n",
    "# Remeber MATLAB counts from 1, python from 0\n",
    "\n",
    "\n",
    "    P.plot(testX[:,0], testX[:,1], 'ro')\n",
    "    RD, CD, order = optics(testX, 4)\n",
    "    testXOrdered = testX[order]\n",
    "    P.plot(testXOrdered[:,0], testXOrdered[:,1], 'b-')\n",
    "\n",
    "    print(order)\n",
    "\n",
    "    P.show()"
   ]
  },
  {
   "cell_type": "code",
   "execution_count": 2,
   "metadata": {
    "collapsed": true
   },
   "outputs": [],
   "source": [
    "import numpy as np"
   ]
  },
  {
   "cell_type": "code",
   "execution_count": 3,
   "metadata": {},
   "outputs": [],
   "source": [
    "# Generate sample data\n",
    "\n",
    "np.random.seed(0)\n",
    "n_points_per_cluster = 250\n",
    "\n",
    "X = np.empty((0, 2))\n",
    "X = np.r_[X, [-5, -2] + .8 * np.random.randn(n_points_per_cluster, 2)]\n",
    "X = np.r_[X, [4, -1] + .1 * np.random.randn(n_points_per_cluster, 2)]\n",
    "X = np.r_[X, [1, -2] + .2 * np.random.randn(n_points_per_cluster, 2)]\n",
    "X = np.r_[X, [-2, 3] + .3 * np.random.randn(n_points_per_cluster, 2)]\n",
    "X = np.r_[X, [3, -2] + 1.6 * np.random.randn(n_points_per_cluster, 2)]\n",
    "X = np.r_[X, [5, 6] + 2 * np.random.randn(n_points_per_cluster, 2)]\n"
   ]
  },
  {
   "cell_type": "code",
   "execution_count": 4,
   "metadata": {
    "collapsed": true
   },
   "outputs": [],
   "source": [
    "RD, CD, order = optics(X,9)"
   ]
  },
  {
   "cell_type": "code",
   "execution_count": 5,
   "metadata": {},
   "outputs": [
    {
     "data": {
      "text/plain": [
       "array([0.        , 0.60600471, 0.47201337, ..., 1.13464964, 0.44616064,\n",
       "       0.62996234])"
      ]
     },
     "execution_count": 5,
     "metadata": {},
     "output_type": "execute_result"
    }
   ],
   "source": [
    "RD"
   ]
  },
  {
   "cell_type": "code",
   "execution_count": null,
   "metadata": {
    "collapsed": true
   },
   "outputs": [],
   "source": []
  }
 ],
 "metadata": {
  "kernelspec": {
   "display_name": "Python 3",
   "language": "python",
   "name": "python3"
  },
  "language_info": {
   "codemirror_mode": {
    "name": "ipython",
    "version": 3
   },
   "file_extension": ".py",
   "mimetype": "text/x-python",
   "name": "python",
   "nbconvert_exporter": "python",
   "pygments_lexer": "ipython3",
   "version": "3.6.1"
  }
 },
 "nbformat": 4,
 "nbformat_minor": 2
}
